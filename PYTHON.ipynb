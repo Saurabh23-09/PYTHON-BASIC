{
  "nbformat": 4,
  "nbformat_minor": 0,
  "metadata": {
    "colab": {
      "provenance": []
    },
    "kernelspec": {
      "name": "python3",
      "display_name": "Python 3"
    },
    "language_info": {
      "name": "python"
    }
  },
  "cells": [
    {
      "cell_type": "markdown",
      "source": [
        "#PYTHON\n"
      ],
      "metadata": {
        "id": "NN1ydG24nwIb"
      }
    },
    {
      "cell_type": "markdown",
      "source": [
        "1- What is python and why is it popular?\n",
        "\n",
        "  <!-- * LiPython is a high-level, general-purpose programming language. \"High-level\" means that its syntax is closer to human language, making it relatively easier to read and write compared to low-level languages (closer to machine code). -->\n",
        "\n",
        "2- What is an interpreter in python ?\n",
        "  <!-- -In the context of programming languages, an interpreter is a program that executes instructions written in a programming language. Instead of compiling the entire code into machine-readable instructions beforehand (like in compiled languages), an interpreter executes the code line by line, translating each line as it encounters it. -->\n",
        "\n",
        "3- What are pre-defined keywords in python ?  \n",
        "  <!-- * In Python, keywords are reserved words that have special meanings and cannot be used as identifiers (variable names, function names, etc.). These keywords are essential for the syntax and structure of the language.\n",
        "  Here's a list of the pre-defined keywords in Python:\n",
        "\n",
        "\n",
        "  False      await      else       import     pass\n",
        "  None       break      except     in         raise\n",
        "  True       class      finally    is         return\n",
        "  and        continue   for        lambda     try\n",
        "  as         def        from       nonlocal   while\n",
        "  assert     del        global     not        with\n",
        "  async      elif       if         or         yield-->\n",
        "\n",
        "4- Can keywords be used as variable names?\n",
        "  <!-- * No, keywords cannot be used as variable names in Python.\n",
        "\n",
        " Reason:\n",
        "\n",
        " Keywords are reserved words that have special meanings and purposes in the Python language. They are used to define the syntax and structure of the code. If you try to use a keyword as a variable name, it will cause a syntax error because the interpreter will interpret it as its predefined meaning instead of a variable. -->\n",
        "\n",
        "5- What is mutability in python ?\n",
        "  <!-- *In Python, mutability refers to the ability of an object to change its value after it has been created. Objects that can be modified are called mutable, while objects that cannot be modified are called immutable. -->\n",
        "\n",
        "6- What are lists mutable, but tuples are immutable?\n",
        "  <!-- *Mutability and Data Structures:\n",
        "\n",
        " Mutability, as discussed earlier, refers to the ability of an object to change its value after  creation. Lists and tuples are both sequence data\n",
        " structures in Python, but they differ significantly in\n",
        " terms of mutability.\n",
        "\n",
        " Lists (Mutable):\n",
        "\n",
        " Lists are designed to be mutable, meaning you can\n",
        " modify their elements after creation. This flexibility\n",
        " makes them suitable for scenarios where data needs to\n",
        " be updated or changed dynamically. -->\n",
        "\n",
        "7- What is difference between\n",
        "   \"==\" and \"is\" operators in python ?\n",
        " <!-- *Okay, let's discuss the difference between the == and is operators in Python.\n",
        "\n",
        " == operator (Equality):\n",
        "\n",
        " The == operator compares the values of two objects to determine if they are equal. It checks if the content or data represented by the objects is the same.\n",
        "\n",
        " is operator (Identity):\n",
        "\n",
        " The is operator compares the identity of two objects. It checks if both variables refer to the same object in memory.\n",
        "\n",
        " Key Differences:\n",
        "\n",
        " Focus: == focuses on value equality, while is focuses on object identity.\n",
        " Memory: is checks if objects occupy the same memory location, whereas == doesn't consider memory location.\n",
        " Usage: == is generally used for comparing data, while is is used to check if two variables point to the exact same object. -->\n",
        "\n",
        "8- What are logical operators in python ?\n",
        "  <!-- *Logical operators are used to combine or modify Boolean expressions (expressions that evaluate to True or False). They allow you to create complex conditions and control the flow of your programs based on multiple criteria. -->\n",
        "\n",
        "9- What is type casting in python ?\n",
        "   <!-- *Type casting, also known as type conversion, is the process of converting a variable's data type into another data type. This is often necessary when you need to perform operations on variables of different types or when you want to change the way data is represented. -->\n",
        "\n",
        "10- What is difference between implict and explict type casting ?   \n",
        "   <!-- * Implicit Type Casting:\n",
        "\n",
        "  Definition: Implicit type casting, also known as automatic type conversion, is performed by the Python interpreter automatically without the need for explicit user intervention. It occurs when an operation involves operands of different data types, and the interpreter converts one operand to the data type of the other operand to ensure compatibility.\n",
        "\n",
        "  *Explicit Type Casting:\n",
        "\n",
        " Definition: Explicit type casting, also known as manual type conversion, is performed by the programmer using built-in functions like int(), float(), str(), etc. It allows the programmer to explicitly convert a variable from one data type to another. -->\n",
        "\n",
        "11- What is the conditional statement in python ?\n",
        "   <!-- *Okay, let's talk about conditional statements in Python.\n",
        "\n",
        "   In Python, conditional statements control the flow of a program's execution based on conditions. They allow you to execute specific blocks of code only if certain conditions are met. The most common conditional statement is the if statement. -->\n",
        "\n",
        "12- How does the elif statement work ?\n",
        "   <!-- *The elif statement, short for \"else if,\" is used in conjunction with the if statement to provide additional conditional checks. It allows you to test multiple conditions sequentially and execute different blocks of code based on the first condition that evaluates to True. -->\n",
        "\n",
        "13- What  is difference between for and while loops ?\n",
        "   <!-- * Both for and while loops are used for iteration, which means repeating a block of code multiple times. However, they differ in how they control the iteration process.\n",
        "\n",
        " For loop:\n",
        "\n",
        " Purpose: A for loop is typically used when you know the number of iterations in advance or when you want to iterate over a sequence of elements (like a list, tuple, or string).\n",
        "\n",
        " * While loop:\n",
        "\n",
        " Purpose: A while loop is used when you want to repeat a block of code as long as a certain condition is True. The number of iterations may not be known beforehand   -->\n",
        "\n",
        "14- Describe a scenario where a while loop is more suitable than a for loop ?\n",
        " <!-- *let's consider a scenario where a while loop would be more suitable than a for loop in Python.\n",
        "\n",
        " Scenario: Reading User Input Until a Specific Condition is Met\n",
        "\n",
        " Imagine you're building a program that asks the user for input until they enter a specific value, such as the word \"quit.\" In this case, you don't know beforehand how many times the loop needs to run because it depends on the user's input.\n",
        "\n",
        " Here's how you could implement this using a while loop:\n",
        "\n",
        "\n",
        " user_input = \"\"\n",
        " while user_input != \"quit\":\n",
        "    user_input = input(\"Enter a word (or 'quit' to exit): \")\n",
        "    print(\"You entered:\", user_input)\n",
        "\n",
        " print(\"Exiting program.\")\n",
        "\n",
        "* Why while loop is more suitable here:\n",
        "\n",
        " Unknown Number of Iterations: The loop needs to run until the user enters \"quit,\" and you don't know how many attempts it will take. A while loop is ideal for this because it continues to execute as long as the condition (user_input != \"quit\") is True.\n",
        "\n",
        " Condition-Based Execution: The loop's execution depends on the user's input, which is a condition that can change during each iteration. A while loop allows you to easily control the loop based on this dynamic condition.\n",
        "\n",
        " Flexibility: A while loop provides more flexibility in this scenario. For example, you could add additional conditions or logic within the loop based on the user's input.\n",
        "\n",
        " Why for loop is less suitable:\n",
        "\n",
        " A for loop is typically used when you know the number of iterations or when iterating over a sequence. In this scenario, you don't have a predefined sequence or a fixed number of iterations. Trying to force this into a for loop would be awkward and less efficient.\n",
        "\n",
        " In summary:\n",
        "\n",
        " When you need to repeat a block of code based on a condition that can change during the loop's execution, and the number of iterations is not predetermined, a while loop is generally more suitable than a for loop. This is often the case when dealing with user input, external events, or situations where the loop's termination depends on dynamic factors. -->"
      ],
      "metadata": {
        "id": "OyTccqbwoOAi"
      }
    },
    {
      "cell_type": "markdown",
      "source": [
        "#practical questions"
      ],
      "metadata": {
        "id": "y1rL7ekY2Vw4"
      }
    },
    {
      "cell_type": "markdown",
      "source": [
        "1- Write a program to print \"Hello, World!\"\n"
      ],
      "metadata": {
        "id": "L4a0tM-N2bSf"
      }
    },
    {
      "source": [
        "print(\"Hello, World!\")"
      ],
      "cell_type": "code",
      "metadata": {
        "colab": {
          "base_uri": "https://localhost:8080/"
        },
        "id": "z7keyhDK24ce",
        "outputId": "76ca5474-7d3f-4e49-d2f6-f6c6dea30ae3"
      },
      "execution_count": null,
      "outputs": [
        {
          "output_type": "stream",
          "name": "stdout",
          "text": [
            "Hello, World!\n"
          ]
        }
      ]
    },
    {
      "cell_type": "markdown",
      "source": [
        "2- Write a python program that displays your name and age."
      ],
      "metadata": {
        "id": "OuzXBLn93CQr"
      }
    },
    {
      "source": [
        "name = \"saurabh singh\"\n",
        "age = 25\n",
        "\n",
        "print(\"My name is\", name, \"and I am\", age, \"years old.\")"
      ],
      "cell_type": "code",
      "metadata": {
        "colab": {
          "base_uri": "https://localhost:8080/"
        },
        "id": "Q7vSh5Nd3dSt",
        "outputId": "550beacd-ca42-4bfc-9e68-ae67b91c7fcc"
      },
      "execution_count": null,
      "outputs": [
        {
          "output_type": "stream",
          "name": "stdout",
          "text": [
            "My name is saurabh singh and I am 25 years old.\n"
          ]
        }
      ]
    },
    {
      "cell_type": "markdown",
      "source": [
        "3- Write code to print all the pre-defined keywords in python using the keyword library."
      ],
      "metadata": {
        "id": "fPd_VuUz3tTt"
      }
    },
    {
      "source": [
        "import keyword\n",
        "\n",
        "print(keyword.kwlist)"
      ],
      "cell_type": "code",
      "metadata": {
        "colab": {
          "base_uri": "https://localhost:8080/"
        },
        "id": "tgzVsXjD4CQB",
        "outputId": "20b56e09-94b8-4ed8-bc18-2270c89a594a"
      },
      "execution_count": null,
      "outputs": [
        {
          "output_type": "stream",
          "name": "stdout",
          "text": [
            "['False', 'None', 'True', 'and', 'as', 'assert', 'async', 'await', 'break', 'class', 'continue', 'def', 'del', 'elif', 'else', 'except', 'finally', 'for', 'from', 'global', 'if', 'import', 'in', 'is', 'lambda', 'nonlocal', 'not', 'or', 'pass', 'raise', 'return', 'try', 'while', 'with', 'yield']\n"
          ]
        }
      ]
    },
    {
      "cell_type": "markdown",
      "source": [
        "5- Create a list and tuple in python, and demonstrate how attempting to change an element works differently for each."
      ],
      "metadata": {
        "id": "J9usyhgO4H8m"
      }
    },
    {
      "source": [
        "# Creating a list\n",
        "my_list = [1, 2, 3]\n",
        "\n",
        "# Creating a tuple\n",
        "my_tuple = (1, 2, 3)\n",
        "\n",
        "# Attempting to change an element in the list\n",
        "my_list[0] = 4  # This works, lists are mutable\n",
        "\n",
        "# Attempting to change an element in the tuple\n",
        "# my_tuple[0] = 4  # This will raise a TypeError, tuples are immutable\n",
        "\n",
        "# Printing the list and tuple\n",
        "print(\"List:\", my_list)\n",
        "print(\"Tuple:\", my_tuple)"
      ],
      "cell_type": "code",
      "metadata": {
        "colab": {
          "base_uri": "https://localhost:8080/"
        },
        "id": "W9UosoEq4oFh",
        "outputId": "1181bf03-4884-4e8b-8c7b-0d545380a69c"
      },
      "execution_count": null,
      "outputs": [
        {
          "output_type": "stream",
          "name": "stdout",
          "text": [
            "List: [4, 2, 3]\n",
            "Tuple: (1, 2, 3)\n"
          ]
        }
      ]
    },
    {
      "cell_type": "markdown",
      "source": [
        "6- Write a funtion to demonstrate the behaviour ofmutable and immutable arguments."
      ],
      "metadata": {
        "id": "oGPnP8i_48Xl"
      }
    },
    {
      "source": [
        "def modify_arguments(mutable_arg, immutable_arg):\n",
        "\n",
        "    mutable_arg.append(4)  # Modifies the mutable argument in place\n",
        "    immutable_arg = 2  # Reassigns the immutable argument (creates a new object)\n",
        "\n",
        "    print(\"Inside function:\")\n",
        "    print(\"Mutable argument:\", mutable_arg)\n",
        "    print(\"Immutable argument:\", immutable_arg)\n",
        "\n",
        "\n",
        "# Calling the function\n",
        "my_list = [1, 2, 3]\n",
        "my_int = 1\n",
        "\n",
        "modify_arguments(my_list, my_int)\n",
        "\n",
        "print(\"Outside function:\")\n",
        "print(\"Mutable argument:\", my_list)\n",
        "print(\"Immutable argument:\", my_int)"
      ],
      "cell_type": "code",
      "metadata": {
        "colab": {
          "base_uri": "https://localhost:8080/"
        },
        "id": "vshpM8C65Sgt",
        "outputId": "c481630a-80e9-466d-e01c-679decbc1326"
      },
      "execution_count": null,
      "outputs": [
        {
          "output_type": "stream",
          "name": "stdout",
          "text": [
            "Inside function:\n",
            "Mutable argument: [1, 2, 3, 4]\n",
            "Immutable argument: 2\n",
            "Outside function:\n",
            "Mutable argument: [1, 2, 3, 4]\n",
            "Immutable argument: 1\n"
          ]
        }
      ]
    },
    {
      "cell_type": "markdown",
      "source": [
        "8- Write a program to demonstrate the use of logical operators."
      ],
      "metadata": {
        "id": "AguR04zk5f9b"
      }
    },
    {
      "source": [
        "def demonstrate_logical_operators(x, y):\n",
        "\n",
        "  print(\"x =\", x)\n",
        "  print(\"y =\", y)\n",
        "\n",
        "  print(\"x and y =\", x and y)  # Returns x if x is False, otherwise y\n",
        "  print(\"x or y =\", x or y)  # Returns x if x is True, otherwise y\n",
        "  print(\"not x =\", not x)  # Returns True if x is False, otherwise False\n",
        "\n",
        "\n",
        "# Example usage:\n",
        "demonstrate_logical_operators(True, False)"
      ],
      "cell_type": "code",
      "metadata": {
        "colab": {
          "base_uri": "https://localhost:8080/"
        },
        "id": "BtFPnzVn6I3g",
        "outputId": "34882bca-52e8-4bc8-ffa0-341e3ca7ccf5"
      },
      "execution_count": null,
      "outputs": [
        {
          "output_type": "stream",
          "name": "stdout",
          "text": [
            "x = True\n",
            "y = False\n",
            "x and y = False\n",
            "x or y = True\n",
            "not x = False\n"
          ]
        }
      ]
    },
    {
      "cell_type": "markdown",
      "source": [
        "Q9 - write a program to convert user input from string to integer, float and boolean types."
      ],
      "metadata": {
        "id": "wv93MuDWrGxS"
      }
    },
    {
      "source": [
        "def convert_input():\n",
        "  \"\"\"Converts user input to integer, float, and boolean types.\"\"\"\n",
        "\n",
        "  # Get user input\n",
        "  user_input = input(\"Enter a value: \")\n",
        "\n",
        "  try:\n",
        "    # Attempt to convert to integer\n",
        "    integer_value = int(user_input)\n",
        "    print(\"Integer:\", integer_value)\n",
        "  except ValueError:\n",
        "    print(\"Could not convert to integer.\")\n",
        "\n",
        "  try:\n",
        "    # Attempt to convert to float\n",
        "    float_value = float(user_input)\n",
        "    print(\"Float:\", float_value)\n",
        "  except ValueError:\n",
        "    print(\"Could not convert to float.\")\n",
        "\n",
        "  # Convert to boolean (case-insensitive)\n",
        "  boolean_value = user_input.lower() in [\"true\", \"1\", \"t\", \"y\", \"yes\"]\n",
        "  print(\"Boolean:\", boolean_value)\n",
        "\n",
        "\n",
        "# Call the function to start the conversion\n",
        "convert_input()"
      ],
      "cell_type": "code",
      "metadata": {
        "id": "i8v71RIYrlTR"
      },
      "execution_count": null,
      "outputs": []
    },
    {
      "source": [
        "def convert_input():\n",
        "\n",
        "  # Get user input\n",
        "  user_input = input(\"Enter a value: \")\n",
        "\n",
        "  try:\n",
        "    # Attempt to convert to integer\n",
        "    integer_value = int(user_input)\n",
        "    print(\"Integer:\", integer_value)\n",
        "  except ValueError:\n",
        "    print(\"Could not convert to integer.\")\n",
        "\n",
        "  try:\n",
        "    # Attempt to convert to float\n",
        "    float_value = float(user_input)\n",
        "    print(\"Float:\", float_value)\n",
        "  except ValueError:\n",
        "    print(\"Could not convert to float.\")\n",
        "\n",
        "  # Convert to boolean (case-insensitive)\n",
        "  boolean_value = user_input.lower() in [\"true\", \"1\", \"t\", \"y\", \"yes\"]\n",
        "  print(\"Boolean:\", boolean_value)\n",
        "\n",
        "\n",
        "# Call the function to start the conversion\n",
        "convert_input()"
      ],
      "cell_type": "code",
      "metadata": {
        "colab": {
          "base_uri": "https://localhost:8080/"
        },
        "id": "1O7Q3SuHrlWs",
        "outputId": "ff4b1602-db85-47ee-cb74-c057cef40d0f"
      },
      "execution_count": 1,
      "outputs": [
        {
          "output_type": "stream",
          "name": "stdout",
          "text": [
            "Enter a value: 7\n",
            "Integer: 7\n",
            "Float: 7.0\n",
            "Boolean: False\n"
          ]
        }
      ]
    },
    {
      "cell_type": "markdown",
      "source": [
        "Q10 - write a code to demonstrate type casting with list elements."
      ],
      "metadata": {
        "id": "rIaCVr6_sIlm"
      }
    },
    {
      "source": [
        "def cast_list_elements(data, types):\n",
        "\n",
        "    # Cast each element using list comprehension and zip\n",
        "    casted_data = []\n",
        "    for type_, value in zip(types, data):\n",
        "        try:\n",
        "            # Attempt to cast the value to the specified type\n",
        "            casted_value = type_(value.replace(',', '.')) if type_ is float else type_(value)\n",
        "            casted_data.append(casted_value)\n",
        "        except ValueError:\n",
        "            # Handle the case where casting fails\n",
        "            print(f\"Could not cast '{value}' to {type_}\")\n",
        "            casted_data.append(value)  # Or handle it differently (e.g., raise an error)\n",
        "\n",
        "    return casted_data\n",
        "\n",
        "# Example usage\n",
        "data = ['23', '1.45', '1', '1,54']\n",
        "types = [int, float, int, float]  # Target types for each element\n",
        "casted_list = cast_list_elements(data, types)\n",
        "print(casted_list)  # Output: [23, 1.45, 1, 1.54]"
      ],
      "cell_type": "code",
      "metadata": {
        "colab": {
          "base_uri": "https://localhost:8080/"
        },
        "id": "j0ZncKPTslNd",
        "outputId": "03cfb2df-b0e7-4fa7-b085-de083fbbd092"
      },
      "execution_count": 5,
      "outputs": [
        {
          "output_type": "stream",
          "name": "stdout",
          "text": [
            "[23, 1.45, 1, 1.54]\n"
          ]
        }
      ]
    },
    {
      "cell_type": "markdown",
      "source": [
        "Q11 - write a program that checks if a number is postive ,negative or zero ."
      ],
      "metadata": {
        "id": "Y9magOh5ssEx"
      }
    },
    {
      "source": [
        "def check_number(number):\n",
        "\n",
        "\n",
        "    if number > 0:\n",
        "        return \"The number is positive.\"\n",
        "    elif number < 0:\n",
        "        return \"The number is negative.\"\n",
        "    else:\n",
        "        return \"The number is zero.\"\n",
        "\n",
        "# Get input from the user\n",
        "user_input = input(\"Enter a number: \")\n",
        "\n",
        "try:\n",
        "    # Attempt to convert the input to a number (float to handle decimals)\n",
        "    number = float(user_input)\n",
        "\n",
        "    # Check and print the result\n",
        "    result = check_number(number)\n",
        "    print(result)\n",
        "\n",
        "except ValueError:\n",
        "    print(\"Invalid input. Please enter a valid number.\")"
      ],
      "cell_type": "code",
      "metadata": {
        "colab": {
          "base_uri": "https://localhost:8080/"
        },
        "id": "wa3ch5jFuliK",
        "outputId": "a4865677-4c0b-41f3-a34a-66dc095d6998"
      },
      "execution_count": 17,
      "outputs": [
        {
          "output_type": "stream",
          "name": "stdout",
          "text": [
            "Enter a number: 67\n",
            "The number is positive.\n"
          ]
        }
      ]
    },
    {
      "cell_type": "markdown",
      "source": [
        "Q12 - write a for loop to print numbers from 1 to 10."
      ],
      "metadata": {
        "id": "6rvxJmr_u1dO"
      }
    },
    {
      "source": [
        "for i in range(1, 11):\n",
        "    print(i)"
      ],
      "cell_type": "code",
      "metadata": {
        "colab": {
          "base_uri": "https://localhost:8080/"
        },
        "id": "76I5kYVXvRSF",
        "outputId": "f31b2cbb-0c78-45af-903a-6fb827438676"
      },
      "execution_count": 18,
      "outputs": [
        {
          "output_type": "stream",
          "name": "stdout",
          "text": [
            "1\n",
            "2\n",
            "3\n",
            "4\n",
            "5\n",
            "6\n",
            "7\n",
            "8\n",
            "9\n",
            "10\n"
          ]
        }
      ]
    },
    {
      "cell_type": "markdown",
      "source": [
        "Q13 -write a python program to find the sum of all even numbers between 1 and 50"
      ],
      "metadata": {
        "id": "lZA8onXhvUbj"
      }
    },
    {
      "source": [
        "# Initialize the sum to 0\n",
        "total_sum = 0\n",
        "\n",
        "# Iterate through numbers from 1 to 50\n",
        "for number in range(1, 51):\n",
        "    # Check if the number is even\n",
        "    if number % 2 == 0:\n",
        "        # If even, add it to the total sum\n",
        "        total_sum += number\n",
        "\n",
        "# Print the total sum\n",
        "print(\"The sum of all even numbers between 1 and 50 is:\", total_sum)"
      ],
      "cell_type": "code",
      "metadata": {
        "colab": {
          "base_uri": "https://localhost:8080/"
        },
        "id": "oMbmPZJLvlBB",
        "outputId": "3765fe21-21aa-4902-9736-0697f59c587e"
      },
      "execution_count": 19,
      "outputs": [
        {
          "output_type": "stream",
          "name": "stdout",
          "text": [
            "The sum of all even numbers between 1 and 50 is: 650\n"
          ]
        }
      ]
    },
    {
      "cell_type": "markdown",
      "source": [
        "Q14 - write a program to reverse a string using  a while loop."
      ],
      "metadata": {
        "id": "XUDil4Uovo1x"
      }
    },
    {
      "source": [
        "def reverse_string(text):\n",
        "\n",
        "\n",
        "    reversed_text = \"\"\n",
        "    index = len(text) - 1  # Start from the last index\n",
        "\n",
        "    while index >= 0:\n",
        "        reversed_text += text[index]  # Add the character to the reversed string\n",
        "        index -= 1  # Move to the previous index\n",
        "\n",
        "    return reversed_text\n",
        "\n",
        "# Get input from the user\n",
        "string_to_reverse = input(\"Enter a string: \")\n",
        "\n",
        "# Reverse the string and print the result\n",
        "reversed_string = reverse_string(string_to_reverse)\n",
        "print(\"Reversed string:\", reversed_string)"
      ],
      "cell_type": "code",
      "metadata": {
        "colab": {
          "base_uri": "https://localhost:8080/"
        },
        "id": "JctsTvBzv8vT",
        "outputId": "49e51600-8a76-4797-ceb3-530de14ac2be"
      },
      "execution_count": 21,
      "outputs": [
        {
          "output_type": "stream",
          "name": "stdout",
          "text": [
            "Enter a string: 56\n",
            "Reversed string: 65\n"
          ]
        }
      ]
    },
    {
      "cell_type": "markdown",
      "source": [
        "Q15 - write python program to calculate the factorial of a number provided by the using a while loop ."
      ],
      "metadata": {
        "id": "ocXNbmUDwHY2"
      }
    },
    {
      "source": [
        "def factorial(number):\n",
        "\n",
        "    if number < 0:\n",
        "        return \"Factorial is not defined for negative numbers.\"\n",
        "    elif number == 0:\n",
        "        return 1\n",
        "    else:\n",
        "        factorial = 1\n",
        "        while number > 1:\n",
        "            factorial *= number\n",
        "            number -= 1\n",
        "        return factorial\n",
        "\n",
        "# Get input from the user\n",
        "num = int(input(\"Enter a non-negative integer: \"))\n",
        "\n",
        "# Calculate and print the factorial\n",
        "result = factorial(num)\n",
        "print(f\"The factorial of {num} is {result}\")"
      ],
      "cell_type": "code",
      "metadata": {
        "colab": {
          "base_uri": "https://localhost:8080/"
        },
        "id": "tjEAnpi4wfRZ",
        "outputId": "086af661-8c32-4e80-e8c1-135840363ffd"
      },
      "execution_count": 23,
      "outputs": [
        {
          "output_type": "stream",
          "name": "stdout",
          "text": [
            "Enter a non-negative integer: 23\n",
            "The factorial of 23 is 25852016738884976640000\n"
          ]
        }
      ]
    }
  ]
}